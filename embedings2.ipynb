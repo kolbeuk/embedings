{
 "cells": [
  {
   "cell_type": "code",
   "execution_count": 1,
   "id": "3abd887b",
   "metadata": {},
   "outputs": [],
   "source": [
    "from openai import OpenAI\n",
    "import pandas as pd"
   ]
  },
  {
   "cell_type": "code",
   "execution_count": 2,
   "id": "e50a5df6",
   "metadata": {},
   "outputs": [],
   "source": [
    "client = OpenAI()"
   ]
  },
  {
   "cell_type": "code",
   "execution_count": 4,
   "id": "62530c9d",
   "metadata": {},
   "outputs": [],
   "source": [
    "# encode this combined text and output a single vector embedding.\n",
    "def get_embedding(text, model=\"text-embedding-ada-002\"):\n",
    "   text = text.replace(\"\\n\", \" \")\n",
    "   return client.embeddings.create(input = [text], model=model).data[0].embedding\n",
    "\n",
    "df = pd.read_csv('output/sampled_data.csv')\n",
    "try:\n",
    "   df['ada_embedding'] = df[\"Summary\"].astype(str).apply(lambda x: get_embedding(x, model='text-embedding-ada-002'))\n",
    "except Exception as e:\n",
    "   print(\"Exception\" , e)   \n",
    "   \n",
    "df.to_csv('output/embedded_sampled_data.csv', index=False)"
   ]
  },
  {
   "cell_type": "code",
   "execution_count": 25,
   "id": "6c588e65",
   "metadata": {},
   "outputs": [
    {
     "name": "stdout",
     "output_type": "stream",
     "text": [
      "Index(['Id', 'ProductId', 'UserId', 'ProfileName', 'HelpfulnessNumerator',\n",
      "       'HelpfulnessDenominator', 'Score', 'Time', 'Summary', 'Text'],\n",
      "      dtype='object')\n"
     ]
    }
   ],
   "source": [
    "print(df.shape)"
   ]
  },
  {
   "cell_type": "code",
   "execution_count": null,
   "id": "5d030397",
   "metadata": {},
   "outputs": [],
   "source": [
    "df['ada_embedding'] = df.combine.apply(lambda x: get_embedding(x, model='text-embedding-ada-002'))\n",
    "df.to_csv('output/embedded_1k_reviews.csv', index=False)"
   ]
  },
  {
   "cell_type": "code",
   "execution_count": null,
   "id": "15370e40",
   "metadata": {},
   "outputs": [],
   "source": [
    "# To load the data from a saved file, you can run the following:\n",
    "import pandas as pd\n",
    "\n",
    "df = pd.read_csv('output/embedded_1k_reviews.csv')\n",
    "df['ada_embedding'] = df.ada_embedding.apply(eval).apply(np.array)"
   ]
  },
  {
   "cell_type": "code",
   "execution_count": null,
   "id": "2a5b288f",
   "metadata": {
    "vscode": {
     "languageId": "plaintext"
    }
   },
   "outputs": [],
   "source": [
    "# Data visualization in 2D\n",
    "import pandas as pd\n",
    "from sklearn.manifold import TSNE\n",
    "import matplotlib.pyplot as plt\n",
    "import matplotlib\n",
    "\n",
    "df = pd.read_csv('output/embedded_1k_reviews.csv')\n",
    "matrix = df.ada_embedding.apply(eval).to_list()\n",
    "\n",
    "# Create a t-SNE model and transform the data\n",
    "tsne = TSNE(n_components=2, perplexity=15, random_state=42, init='random', learning_rate=200)\n",
    "vis_dims = tsne.fit_transform(matrix)\n",
    "\n",
    "colors = [\"red\", \"darkorange\", \"gold\", \"turquiose\", \"darkgreen\"]\n",
    "x = [x for x,y in vis_dims]\n",
    "y = [y for x,y in vis_dims]\n",
    "color_indices = df.Score.values - 1\n",
    "\n",
    "colormap = matplotlib.colors.ListedColormap(colors)\n",
    "plt.scatter(x, y, c=color_indices, cmap=colormap, alpha=0.3)\n",
    "plt.title(\"Amazon ratings visualized in language using t-SNE\")"
   ]
  },
  {
   "cell_type": "code",
   "execution_count": null,
   "id": "1e5c559c",
   "metadata": {},
   "outputs": [],
   "source": [
    "# Embedding as a text feature encoder for ML algorithms\n",
    "from sklearn.model_selection import train_test_split\n",
    "\n",
    "X_train, X_test, y_train, y_test = train_test_split(\n",
    "    list(df.ada_embedding.values),\n",
    "    df.Score,\n",
    "    test_size = 0.2,\n",
    "    random_state=42\n",
    ")"
   ]
  },
  {
   "cell_type": "code",
   "execution_count": null,
   "id": "36a7abc1",
   "metadata": {},
   "outputs": [],
   "source": [
    "# Regression using the embedding features\n",
    "from sklearn.ensemble import RandomForestRegressor\n",
    "\n",
    "rfr = RandomForestRegressor(n_estimators=100)\n",
    "rfr.fit(X_train, y_train)\n",
    "preds = rfr.predict(X_test)"
   ]
  },
  {
   "cell_type": "code",
   "execution_count": null,
   "id": "8f7bb4e1",
   "metadata": {},
   "outputs": [],
   "source": [
    "# Classification using the embedding features\n",
    "from sklearn.ensemble import RandomForestClassifier\n",
    "from sklearn.metrics import classification_report, accuracy_score\n",
    "\n",
    "clf = RandomForestClassifier(n_estimators=100)\n",
    "clf.fit(X_train, y_train)\n",
    "preds = clf.predict(X_test)"
   ]
  },
  {
   "cell_type": "code",
   "execution_count": null,
   "id": "f9d713c3",
   "metadata": {},
   "outputs": [],
   "source": [
    "# Zero-shot classification\n",
    "from openai.embeddings_utils import cosine_similarity, get_embedding\n",
    "\n",
    "df= df[df.Score!=3]\n",
    "df['sentiment'] = df.Score.replace({1:'negative', 2:'negative', 4:'positive', 5:'positive'})\n",
    "\n",
    "labels = ['negative', 'positive']\n",
    "label_embeddings = [get_embedding(label, model=model) for label in labels]\n",
    "\n",
    "def label_score(review_embedding, label_embeddings):\n",
    "   return cosine_similarity(review_embedding, label_embeddings[1]) - cosine_similarity(review_embedding, label_embeddings[0])\n",
    "\n",
    "prediction = 'positive' if label_score('Sample Review', label_embeddings) > 0 else 'negative'"
   ]
  },
  {
   "cell_type": "code",
   "execution_count": null,
   "id": "7ef4c8e7",
   "metadata": {},
   "outputs": [],
   "source": [
    "# Obtaining user and product embeddings for cold-start recommendation\n",
    "user_embeddings = df.groupby('UserId').ada_embedding.apply(np.mean)\n",
    "prod_embeddings = df.groupby('ProductId').ada_embedding.apply(np.mean)"
   ]
  },
  {
   "cell_type": "code",
   "execution_count": null,
   "id": "b772e1c3",
   "metadata": {},
   "outputs": [],
   "source": [
    "# Clustering\n",
    "import numpy as np\n",
    "from sklearn.cluster import KMeans\n",
    "\n",
    "matrix = np.vstack(df.ada_embedding.values)\n",
    "n_clusters = 4\n",
    "\n",
    "kmeans = KMeans(n_clusters = n_clusters, init='k-means++', random_state=42)\n",
    "kmeans.fit(matrix)\n",
    "df['Cluster'] = kmeans.labels_"
   ]
  },
  {
   "cell_type": "code",
   "execution_count": null,
   "id": "702851f6",
   "metadata": {},
   "outputs": [],
   "source": [
    "# Text search using embeddings\n",
    "from openai.embeddings_utils import get_embedding, cosine_similarity\n",
    "\n",
    "def search_reviews(df, product_description, n=3, pprint=True):\n",
    "   embedding = get_embedding(product_description, model='text-embedding-ada-002')\n",
    "   df['similarities'] = df.ada_embedding.apply(lambda x: cosine_similarity(x, embedding))\n",
    "   res = df.sort_values('similarities', ascending=False).head(n)\n",
    "   return res\n",
    "\n",
    "res = search_reviews(df, 'delicious beans', n=3)"
   ]
  },
  {
   "cell_type": "code",
   "execution_count": null,
   "id": "81579eb0",
   "metadata": {},
   "outputs": [],
   "source": [
    "# Code search using embeddings\n",
    "from openai.embeddings_utils import get_embedding, cosine_similarity\n",
    "\n",
    "df['code_embedding'] = df['code'].apply(lambda x: get_embedding(x, model='text-embedding-ada-002'))\n",
    "\n",
    "def search_functions(df, code_query, n=3, pprint=True, n_lines=7):\n",
    "   embedding = get_embedding(code_query, model='text-embedding-ada-002')\n",
    "   df['similarities'] = df.code_embedding.apply(lambda x: cosine_similarity(x, embedding))\n",
    "\n",
    "   res = df.sort_values('similarities', ascending=False).head(n)\n",
    "   return res\n",
    "res = search_functions(df, 'Completions API tests', n=3)"
   ]
  },
  {
   "cell_type": "code",
   "execution_count": null,
   "id": "95b69eb9",
   "metadata": {},
   "outputs": [],
   "source": [
    "# Recommendations using embeddings\n",
    "def recommendations_from_strings(\n",
    "   strings: List[str],\n",
    "   index_of_source_string: int,\n",
    "   model=\"text-embedding-ada-002\",\n",
    ") -> List[int]:\n",
    "   \"\"\"Return nearest neighbors of a given string.\"\"\"\n",
    "\n",
    "   # get embeddings for all strings\n",
    "   embeddings = [embedding_from_string(string, model=model) for string in strings]\n",
    "\n",
    "   # get the embedding of the source string\n",
    "   query_embedding = embeddings[index_of_source_string]\n",
    "\n",
    "   # get distances between the source embedding and other embeddings (function from embeddings_utils.py)\n",
    "   distances = distances_from_embeddings(query_embedding, embeddings, distance_metric=\"cosine\")\n",
    "\n",
    "   # get indices of nearest neighbors (function from embeddings_utils.py)\n",
    "   indices_of_nearest_neighbors = indices_of_nearest_neighbors_from_distances(distances)\n",
    "   return indices_of_nearest_neighbors"
   ]
  }
 ],
 "metadata": {
  "kernelspec": {
   "display_name": "Python 3 (ipykernel)",
   "language": "python",
   "name": "python3"
  },
  "language_info": {
   "codemirror_mode": {
    "name": "ipython",
    "version": 3
   },
   "file_extension": ".py",
   "mimetype": "text/x-python",
   "name": "python",
   "nbconvert_exporter": "python",
   "pygments_lexer": "ipython3",
   "version": "3.11.6"
  }
 },
 "nbformat": 4,
 "nbformat_minor": 5
}
