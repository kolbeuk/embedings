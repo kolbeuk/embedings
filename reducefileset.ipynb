{
 "cells": [
  {
   "cell_type": "code",
   "execution_count": 1,
   "metadata": {},
   "outputs": [],
   "source": [
    "import pandas as pd\n",
    "\n",
    "# Load the original CSV file into a DataFrame\n",
    "df = pd.read_csv('output/sampled_data.csv')\n",
    "\n",
    "# Set a random seed for reproducibility\n",
    "random_seed = 42\n",
    "\n",
    "# Randomly sample 100,000 rows from the DataFrame\n",
    "sampled_df = df.sample(n=100, random_state=random_seed)\n",
    "\n",
    "# Now, `sampled_df` contains a random subset of 100,000 rows from the original DataFrame.\n",
    "\n",
    "# You can save this sampled DataFrame to a new CSV file if needed:\n",
    "sampled_df.to_csv('output/sampled_data100.csv', index=False)\n"
   ]
  }
 ],
 "metadata": {
  "kernelspec": {
   "display_name": "Python 3",
   "language": "python",
   "name": "python3"
  },
  "language_info": {
   "codemirror_mode": {
    "name": "ipython",
    "version": 3
   },
   "file_extension": ".py",
   "mimetype": "text/x-python",
   "name": "python",
   "nbconvert_exporter": "python",
   "pygments_lexer": "ipython3",
   "version": "3.11.6"
  }
 },
 "nbformat": 4,
 "nbformat_minor": 2
}
